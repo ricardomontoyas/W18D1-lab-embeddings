{
  "cells": [
    {
      "cell_type": "markdown",
      "metadata": {
        "id": "2slZHbELlOtF"
      },
      "source": [
        "# Embeddings\n",
        "\n",
        "This lab is designed to help you solidify your understanding of embeddings by applying them to tasks like semantic similarity, clustering, and building a semantic search system.\n",
        "\n",
        "### Tasks:\n",
        "- Task 1: Semantic Similarity Comparison\n",
        "- Task 2: Document Clustering\n",
        "- Task 3: Enhance the Semantic Search System\n"
      ]
    },
    {
      "cell_type": "markdown",
      "metadata": {
        "id": "YjyoypUulOtG",
        "jp-MarkdownHeadingCollapsed": true
      },
      "source": [
        "## Task 1: Semantic Similarity Comparison\n",
        "### Objective:\n",
        "Compare semantic similarity between pairs of sentences using cosine similarity and embeddings.\n",
        "\n",
        "### Steps:\n",
        "1. Load a pre-trained Sentence Transformer model.\n",
        "2. Encode the sentence pairs.\n",
        "3. Compute cosine similarity for each pair.\n",
        "\n",
        "### Dataset:\n",
        "- \"A dog is playing in the park.\" vs. \"A dog is running in a field.\"\n",
        "- \"I love pizza.\" vs. \"I enjoy ice cream.\"\n",
        "- \"What is AI?\" vs. \"How does a computer learn?\"\n"
      ]
    },
    {
      "cell_type": "code",
      "execution_count": 27,
      "metadata": {
        "colab": {
          "base_uri": "https://localhost:8080/"
        },
        "id": "q-LepJX5lOtH",
        "outputId": "a26aff14-54e5-4da5-dd25-ac13033b166b"
      },
      "outputs": [
        {
          "output_type": "stream",
          "name": "stdout",
          "text": [
            "0.522 :: A dog is playing in the park.  ||  A dog is running in a field.\n",
            "0.528 :: I love pizza.  ||  I enjoy ice cream.\n",
            "0.319 :: What is AI?  ||  How does a computer learn?\n"
          ]
        }
      ],
      "source": [
        "from sentence_transformers import SentenceTransformer\n",
        "from sklearn.metrics.pairwise import cosine_similarity\n",
        "\n",
        "# Load pre-trained model\n",
        "model = SentenceTransformer('all-MiniLM-L6-v2')\n",
        "\n",
        "# Sentence pairs\n",
        "sentence_pairs = [\n",
        "    (\"A dog is playing in the park.\", \"A dog is running in a field.\"),\n",
        "    (\"I love pizza.\", \"I enjoy ice cream.\"),\n",
        "    (\"What is AI?\", \"How does a computer learn?\")\n",
        "]\n",
        "\n",
        "#check similarity\n",
        "for s1, s2 in sentence_pairs:\n",
        "    emb1 = model.encode([s1])\n",
        "    emb2 = model.encode([s2])  # shape: (1, d)\n",
        "    sim = cosine_similarity(emb1, emb2)[0, 0]\n",
        "    print(f\"{sim:.3f} :: {s1}  ||  {s2}\")"
      ]
    },
    {
      "cell_type": "markdown",
      "metadata": {
        "id": "QxFyztNolOtH"
      },
      "source": [
        "### Questions:\n",
        "- **Which sentence pairs are the most semantically similar? Why?**\n"
      ]
    },
    {
      "cell_type": "markdown",
      "metadata": {
        "id": "xPhMGWjzrdHq"
      },
      "source": [
        "The most similar pair is “I love pizza.” and “I enjoy ice cream.” (0.528) because both express personal enjoyment of food in a similar grammatical form."
      ]
    },
    {
      "cell_type": "markdown",
      "metadata": {
        "id": "Jr3lMlRkrpe-"
      },
      "source": [
        "- **Can you think of cases where cosine similarity might fail to capture true semantic meaning?**"
      ]
    },
    {
      "cell_type": "markdown",
      "metadata": {
        "id": "iuuZBv2Qrv-W"
      },
      "source": [
        "Cosine similarity can fail when sentences are semantically opposite but share similar wording (e.g., “I like cats” vs. “I hate cats”) or when meaning depends on context or world knowledge."
      ]
    },
    {
      "cell_type": "markdown",
      "metadata": {
        "id": "33h0YN9plOtH"
      },
      "source": [
        "## Task 2: Document Clustering\n",
        "### Objective:\n",
        "Cluster a set of text documents into similar groups based on their embeddings.\n",
        "\n",
        "### Steps:\n",
        "1. Encode the documents using Sentence Transformers.\n",
        "2. Use KMeans clustering to group the documents.\n",
        "3. Analyze the clusters for semantic meaning."
      ]
    },
    {
      "cell_type": "code",
      "execution_count": 28,
      "metadata": {
        "id": "kyjyq1BbWRL4"
      },
      "outputs": [],
      "source": [
        "#! pip install sentence_transformers"
      ]
    },
    {
      "cell_type": "code",
      "execution_count": 29,
      "metadata": {
        "colab": {
          "base_uri": "https://localhost:8080/"
        },
        "id": "kBzEGlxMlOtH",
        "outputId": "ae26af0a-1c07-4e18-8cd1-33d16dfbf531"
      },
      "outputs": [
        {
          "output_type": "stream",
          "name": "stdout",
          "text": [
            "(6, 384)\n"
          ]
        }
      ],
      "source": [
        "from sklearn.cluster import KMeans\n",
        "\n",
        "# Documents to cluster\n",
        "documents = [\n",
        "    \"What is the capital of France?\",\n",
        "    \"How do I bake a chocolate cake?\",\n",
        "    \"What is the distance between Earth and Mars?\",\n",
        "    \"How do I change a flat tire on a car?\",\n",
        "    \"What is the best way to learn Python?\",\n",
        "    \"How do I fix a leaky faucet?\"\n",
        "]\n",
        "\n",
        "# Encode documents\n",
        "\n",
        "# Load pre-trained model\n",
        "model = SentenceTransformer('all-MiniLM-L6-v2')\n",
        "\n",
        "X = model.encode(documents)\n",
        "print(X.shape)"
      ]
    },
    {
      "cell_type": "code",
      "execution_count": 30,
      "metadata": {
        "colab": {
          "base_uri": "https://localhost:8080/"
        },
        "id": "uvBAsq-wvuDe",
        "outputId": "d0c18982-4052-4198-b223-d74574b5e7a8"
      },
      "outputs": [
        {
          "output_type": "stream",
          "name": "stdout",
          "text": [
            "Chosen k = 3 (silhouette = 0.029)\n"
          ]
        }
      ],
      "source": [
        "from sklearn.metrics import silhouette_score\n",
        "\n",
        "# Choose k (via silhouette)\n",
        "def choose_k(embeddings, k_min=2, k_max=5, random_state=42):\n",
        "    best = {\"k\": None, \"score\": -1.0}\n",
        "    for k in range(k_min, k_max + 1):\n",
        "        km = KMeans(n_clusters=k, random_state=random_state, n_init=10)\n",
        "        labels = km.fit_predict(embeddings)\n",
        "        score = silhouette_score(embeddings, labels)\n",
        "        if score > best[\"score\"]:\n",
        "            best = {\"k\": k, \"score\": score}\n",
        "    return best\n",
        "\n",
        "best = choose_k(X, k_min=2, k_max=5)\n",
        "k = best[\"k\"]\n",
        "print(f\"Chosen k = {k} (silhouette = {best['score']:.3f})\")\n",
        "\n",
        "# KMeans fit\n",
        "kmeans = KMeans(n_clusters=k, random_state=42, n_init=10)\n",
        "labels = kmeans.fit_predict(X)"
      ]
    },
    {
      "cell_type": "code",
      "execution_count": 31,
      "metadata": {
        "colab": {
          "base_uri": "https://localhost:8080/"
        },
        "id": "PpajWXOflOtH",
        "outputId": "de21a685-0c99-452d-be49-e460fd44ebef"
      },
      "outputs": [
        {
          "output_type": "stream",
          "name": "stdout",
          "text": [
            "Document 0 -> Cluster 1 :: What is the capital of France?\n",
            "Document 1 -> Cluster 1 :: How do I bake a chocolate cake?\n",
            "Document 2 -> Cluster 1 :: What is the distance between Earth and Mars?\n",
            "Document 3 -> Cluster 0 :: How do I change a flat tire on a car?\n",
            "Document 4 -> Cluster 2 :: What is the best way to learn Python?\n",
            "Document 5 -> Cluster 0 :: How do I fix a leaky faucet?\n"
          ]
        }
      ],
      "source": [
        "# Print cluster assignments\n",
        "\n",
        "for i, doc in enumerate(documents):\n",
        "    print(f\"Document {i} -> Cluster {labels[i]} :: {doc}\")"
      ]
    },
    {
      "cell_type": "code",
      "execution_count": 32,
      "metadata": {
        "colab": {
          "base_uri": "https://localhost:8080/",
          "height": 499
        },
        "id": "Nu-b-KF3w8_V",
        "outputId": "c0c118ca-8a48-4bd2-af8c-565faf91608e"
      },
      "outputs": [
        {
          "output_type": "stream",
          "name": "stderr",
          "text": [
            "/tmp/ipython-input-2997923626.py:9: MatplotlibDeprecationWarning: The get_cmap function was deprecated in Matplotlib 3.7 and will be removed in 3.11. Use ``matplotlib.colormaps[name]`` or ``matplotlib.colormaps.get_cmap()`` or ``pyplot.get_cmap()`` instead.\n",
            "  colors = plt.cm.get_cmap(\"Set2\", k)\n",
            "/tmp/ipython-input-2997923626.py:18: UserWarning: No artists with labels found to put in legend.  Note that artists whose label start with an underscore are ignored when legend() is called with no argument.\n",
            "  plt.legend()\n"
          ]
        },
        {
          "output_type": "display_data",
          "data": {
            "text/plain": [
              "<Figure size 600x400 with 1 Axes>"
            ],
            "image/png": "[encoded data removed]"
          },
          "metadata": {}
        }
      ],
      "source": [
        "import matplotlib.pyplot as plt\n",
        "from sklearn.decomposition import PCA\n",
        "\n",
        "# Reduce embeddings to 2D\n",
        "pca = PCA(n_components=2)\n",
        "points = pca.fit_transform(X)\n",
        "\n",
        "# Plot\n",
        "colors = plt.cm.get_cmap(\"Set2\", k)\n",
        "plt.figure(figsize=(6, 4))\n",
        "for i, (x, y) in enumerate(points):\n",
        "    plt.scatter(x, y, color=colors(labels[i]))\n",
        "    plt.text(x + 0.02, y, documents[i], fontsize=9)  # offset text a bi\n",
        "\n",
        "plt.title(\"Document Clusters (PCA)\")\n",
        "plt.xlabel(\"PC1\")\n",
        "plt.ylabel(\"PC2\")\n",
        "plt.legend()\n",
        "plt.show()"
      ]
    },
    {
      "cell_type": "code",
      "execution_count": 33,
      "metadata": {
        "id": "ghsio231yl4x"
      },
      "outputs": [],
      "source": [
        "# Perform KMeans clustering\n",
        "kmeans = KMeans(n_clusters=2,random_state=100)\n",
        "kmeans.fit(X)\n",
        "pred = kmeans.predict(X)"
      ]
    },
    {
      "cell_type": "code",
      "execution_count": 34,
      "metadata": {
        "colab": {
          "base_uri": "https://localhost:8080/"
        },
        "id": "B-XXKjUWyqQZ",
        "outputId": "8eeb8401-0987-4186-e6a1-cdefafa2cf2d"
      },
      "outputs": [
        {
          "output_type": "stream",
          "name": "stdout",
          "text": [
            "Document 0 -> Cluster 1 :: What is the capital of France?\n",
            "Document 1 -> Cluster 0 :: How do I bake a chocolate cake?\n",
            "Document 2 -> Cluster 1 :: What is the distance between Earth and Mars?\n",
            "Document 3 -> Cluster 0 :: How do I change a flat tire on a car?\n",
            "Document 4 -> Cluster 0 :: What is the best way to learn Python?\n",
            "Document 5 -> Cluster 0 :: How do I fix a leaky faucet?\n"
          ]
        }
      ],
      "source": [
        "# Print cluster assignments\n",
        "\n",
        "for i, doc in enumerate(documents):\n",
        "    print(f\"Document {i} -> Cluster {pred[i]} :: {doc}\")"
      ]
    },
    {
      "cell_type": "markdown",
      "metadata": {
        "id": "QuTswW-ulOtH"
      },
      "source": [
        "### Questions:\n",
        "- **How many clusters make the most sense? Why?**\n"
      ]
    },
    {
      "cell_type": "markdown",
      "metadata": {
        "id": "a9LH_IuVySRK"
      },
      "source": [
        "using k=2, both of them are correct. using K=3 , makes sense o and 2 by meaning."
      ]
    },
    {
      "cell_type": "markdown",
      "metadata": {
        "id": "bWlxhZAbySmg"
      },
      "source": [
        "- **Examine the documents in each cluster. Are they semantically meaningful? Can you assign a semantic \"theme\" to each cluster?**\n"
      ]
    },
    {
      "cell_type": "markdown",
      "metadata": {
        "id": "S3FlO0HQ2-ax"
      },
      "source": [
        "Yes. using k= 2, It will be Cluster 0 : 'Questions about procedures to do things' and Cluster 1 : 'Questions about general knoeledge'"
      ]
    },
    {
      "cell_type": "markdown",
      "metadata": {
        "id": "zmEktUulyTUZ"
      },
      "source": [
        "- **Try this exercise with a larger dataset of your choice**"
      ]
    },
    {
      "cell_type": "code",
      "source": [
        "# --- 3) Load, clean, embed, cluster, and preview ---\n",
        "\n",
        "import re\n",
        "import pandas as pd\n",
        "import numpy as np\n",
        "from collections import Counter\n",
        "from sentence_transformers import SentenceTransformer\n",
        "from sklearn.cluster import KMeans\n",
        "\n",
        "# If you already defined your own `clean`, you can delete this and keep yours.\n",
        "URL = re.compile(r\"https?://\\S+|www\\.\\S+\")\n",
        "MENT = re.compile(r\"@\\w+\")\n",
        "RT   = re.compile(r\"^RT\\s+\")\n",
        "HASH = re.compile(r\"#(\\w+)\")\n",
        "WS   = re.compile(r\"\\s+\")\n",
        "def clean(s: str) -> str:\n",
        "    s = \"\" if s is None else str(s)\n",
        "    s = RT.sub(\"\", s)\n",
        "    s = URL.sub(\"\", s)\n",
        "    s = MENT.sub(\"\", s)\n",
        "    s = HASH.sub(r\"\\1\", s)   # keep hashtag words, drop '#'\n",
        "    s = WS.sub(\" \", s).strip().lower()\n",
        "    return s\n",
        "\n",
        "# 3) Load and clean\n",
        "df = pd.read_csv(r\"twitter_dataset.csv\", dtype={\"text\": \"string\"}, on_bad_lines=\"skip\")\n",
        "\n",
        "if \"Text\" not in df.columns:\n",
        "    raise ValueError(\"Input CSV must contain a 'Text' column.\")\n",
        "\n",
        "print(f\"Tweets before cleaning: {len(df)}\")\n",
        "df[\"text\"] = df[\"Text\"].fillna(\"\").astype(str)\n",
        "df[\"text_clean\"] = df[\"Text\"].map(clean)\n",
        "df = (\n",
        "    df[df[\"text_clean\"].str.len() >= 10]\n",
        "    .drop_duplicates(\"text_clean\")\n",
        "    .reset_index(drop=True)\n",
        ")\n",
        "docs = df[\"text_clean\"].tolist()\n",
        "print(f\"Tweets after cleaning: {len(docs)}\")\n",
        "if len(docs) == 0:\n",
        "    raise RuntimeError(\"No tweets left after cleaning. Relax filters or check your CSV.\")\n",
        "\n",
        "# 4) Encode\n",
        "model = SentenceTransformer(\"all-MiniLM-L6-v2\")\n",
        "emb = model.encode(\n",
        "    docs,\n",
        "    batch_size=256,\n",
        "    convert_to_numpy=True,\n",
        "    normalize_embeddings=True  # unit vectors -> cosine = dot\n",
        ")\n",
        "\n",
        "# 5) Cluster\n",
        "k = 6\n",
        "kmeans = KMeans(n_clusters=k, n_init=10, random_state=42)\n",
        "labels = kmeans.fit_predict(emb)\n",
        "df[\"cluster\"] = labels\n",
        "print(\"Cluster sizes:\", dict(sorted(Counter(labels).items())))\n",
        "\n",
        "# Precompute normalized centroids for cosine similarity\n",
        "centroids = kmeans.cluster_centers_\n",
        "centroids_norm = centroids / np.linalg.norm(centroids, axis=1, keepdims=True)\n",
        "\n",
        "# 6) Show a few examples per cluster (no backslashes inside f-strings)\n",
        "def _preview(text, n=140):\n",
        "    if not isinstance(text, str):\n",
        "        text = \"\" if text is None else str(text)\n",
        "    return text[:n].replace(\"\\n\", \" \").replace(\"\\r\", \" \")\n",
        "\n",
        "def show_examples(c, n=3):\n",
        "    idx = np.where(labels == c)[0]\n",
        "    if idx.size == 0:\n",
        "        print(\"  (empty)\")\n",
        "        return\n",
        "    # use precomputed centroids if you have them; otherwise compute once here:\n",
        "    kmeans = KMeans(n_clusters=k, n_init=10, random_state=42).fit(emb)\n",
        "    center = kmeans.cluster_centers_[c]\n",
        "    center = center / np.linalg.norm(center)\n",
        "    sims = emb[idx] @ center\n",
        "    top = idx[np.argsort(-sims)[:n]]\n",
        "    for j, i in enumerate(top, 1):\n",
        "        prev = _preview(df.loc[i, \"text\"])\n",
        "        print(f\"  {j}. {prev}\")"
      ],
      "metadata": {
        "colab": {
          "base_uri": "https://localhost:8080/"
        },
        "id": "ilgw_ABqZwpf",
        "outputId": "4ebca1ad-6344-4e82-c409-506060366262"
      },
      "execution_count": 35,
      "outputs": [
        {
          "output_type": "stream",
          "name": "stdout",
          "text": [
            "Tweets before cleaning: 10000\n",
            "Tweets after cleaning: 10000\n",
            "Cluster sizes: {np.int32(0): 1693, np.int32(1): 1599, np.int32(2): 1735, np.int32(3): 1441, np.int32(4): 1666, np.int32(5): 1866}\n"
          ]
        }
      ]
    },
    {
      "cell_type": "markdown",
      "metadata": {
        "id": "qUaQBiALlOtH"
      },
      "source": [
        "## Task 3: Semantic Search System\n",
        "### Objective:\n",
        "Create a semantic search engine:\n",
        "A user provides a query and you search the dataset for semantically relevant documents to return. Return the top 5 results.\n",
        "\n",
        "### Dataset:\n",
        "- Use the following set of documents:\n",
        "    - \"What is the capital of France?\"\n",
        "    - \"How do I bake a chocolate cake?\"\n",
        "    - \"What is the distance between Earth and Mars?\"\n",
        "    - \"How do I change a flat tire on a car?\"\n",
        "    - \"What is the best way to learn Python?\"\n",
        "    - \"How do I fix a leaky faucet?\"\n",
        "    - \"What are the best travel destinations in Europe?\"\n",
        "    - \"How do I set up a local server?\"\n",
        "    - \"What is quantum computing?\"\n",
        "    - \"How do I build a mobile app?\"\n"
      ]
    },
    {
      "cell_type": "code",
      "execution_count": 36,
      "metadata": {
        "id": "tWFSgRbGlOtH"
      },
      "outputs": [],
      "source": [
        "import numpy as np\n",
        "\n",
        "\n",
        "# Documents dataset\n",
        "documents = [\n",
        "    \"What is the capital of France?\",\n",
        "    \"How do I bake a chocolate cake?\",\n",
        "    \"What is the distance between Earth and Mars?\",\n",
        "    \"How do I change a flat tire on a car?\",\n",
        "    \"What is the best way to learn Python?\",\n",
        "    \"How do I fix a leaky faucet?\",\n",
        "    \"What are the best travel destinations in Europe?\",\n",
        "    \"How do I set up a local server?\",\n",
        "    \"What is quantum computing?\",\n",
        "    \"How do I build a mobile app?\"\n",
        "]\n",
        "\n",
        "# Compute document embeddings\n",
        "\n",
        "model = SentenceTransformer('all-MiniLM-L6-v2')\n",
        "emb = model.encode(documents)"
      ]
    },
    {
      "cell_type": "code",
      "execution_count": 37,
      "metadata": {
        "colab": {
          "base_uri": "https://localhost:8080/",
          "height": 363
        },
        "id": "UWe5M-Pj7ztG",
        "outputId": "0577c914-ced3-45e5-898e-67a35be56d18"
      },
      "outputs": [
        {
          "output_type": "execute_result",
          "data": {
            "text/plain": [
              "                                                  0\n",
              "0                    What is the capital of France?\n",
              "1                   How do I bake a chocolate cake?\n",
              "2      What is the distance between Earth and Mars?\n",
              "3             How do I change a flat tire on a car?\n",
              "4             What is the best way to learn Python?\n",
              "5                      How do I fix a leaky faucet?\n",
              "6  What are the best travel destinations in Europe?\n",
              "7                   How do I set up a local server?\n",
              "8                        What is quantum computing?\n",
              "9                      How do I build a mobile app?"
            ],
            "text/html": [
              "\n",
              "  <div id=\"df-c6b3dad5-8ced-4147-bc72-4507f7effc29\" class=\"colab-df-container\">\n",
              "    <div>\n",
              "<style scoped>\n",
              "    .dataframe tbody tr th:only-of-type {\n",
              "        vertical-align: middle;\n",
              "    }\n",
              "\n",
              "    .dataframe tbody tr th {\n",
              "        vertical-align: top;\n",
              "    }\n",
              "\n",
              "    .dataframe thead th {\n",
              "        text-align: right;\n",
              "    }\n",
              "</style>\n",
              "<table border=\"1\" class=\"dataframe\">\n",
              "  <thead>\n",
              "    <tr style=\"text-align: right;\">\n",
              "      <th></th>\n",
              "      <th>0</th>\n",
              "    </tr>\n",
              "  </thead>\n",
              "  <tbody>\n",
              "    <tr>\n",
              "      <th>0</th>\n",
              "      <td>What is the capital of France?</td>\n",
              "    </tr>\n",
              "    <tr>\n",
              "      <th>1</th>\n",
              "      <td>How do I bake a chocolate cake?</td>\n",
              "    </tr>\n",
              "    <tr>\n",
              "      <th>2</th>\n",
              "      <td>What is the distance between Earth and Mars?</td>\n",
              "    </tr>\n",
              "    <tr>\n",
              "      <th>3</th>\n",
              "      <td>How do I change a flat tire on a car?</td>\n",
              "    </tr>\n",
              "    <tr>\n",
              "      <th>4</th>\n",
              "      <td>What is the best way to learn Python?</td>\n",
              "    </tr>\n",
              "    <tr>\n",
              "      <th>5</th>\n",
              "      <td>How do I fix a leaky faucet?</td>\n",
              "    </tr>\n",
              "    <tr>\n",
              "      <th>6</th>\n",
              "      <td>What are the best travel destinations in Europe?</td>\n",
              "    </tr>\n",
              "    <tr>\n",
              "      <th>7</th>\n",
              "      <td>How do I set up a local server?</td>\n",
              "    </tr>\n",
              "    <tr>\n",
              "      <th>8</th>\n",
              "      <td>What is quantum computing?</td>\n",
              "    </tr>\n",
              "    <tr>\n",
              "      <th>9</th>\n",
              "      <td>How do I build a mobile app?</td>\n",
              "    </tr>\n",
              "  </tbody>\n",
              "</table>\n",
              "</div>\n",
              "    <div class=\"colab-df-buttons\">\n",
              "\n",
              "  <div class=\"colab-df-container\">\n",
              "    <button class=\"colab-df-convert\" onclick=\"convertToInteractive('df-c6b3dad5-8ced-4147-bc72-4507f7effc29')\"\n",
              "            title=\"Convert this dataframe to an interactive table.\"\n",
              "            style=\"display:none;\">\n",
              "\n",
              "  <svg xmlns=\"http://www.w3.org/2000/svg\" height=\"24px\" viewBox=\"0 -960 960 960\">\n",
              "    <path d=\"M120-120v-720h720v720H120Zm60-500h600v-160H180v160Zm220 220h160v-160H400v160Zm0 220h160v-160H400v160ZM180-400h160v-160H180v160Zm440 0h160v-160H620v160ZM180-180h160v-160H180v160Zm440 0h160v-160H620v160Z\"/>\n",
              "  </svg>\n",
              "    </button>\n",
              "\n",
              "  <style>\n",
              "    .colab-df-container {\n",
              "      display:flex;\n",
              "      gap: 12px;\n",
              "    }\n",
              "\n",
              "    .colab-df-convert {\n",
              "      background-color: #E8F0FE;\n",
              "      border: none;\n",
              "      border-radius: 50%;\n",
              "      cursor: pointer;\n",
              "      display: none;\n",
              "      fill: #1967D2;\n",
              "      height: 32px;\n",
              "      padding: 0 0 0 0;\n",
              "      width: 32px;\n",
              "    }\n",
              "\n",
              "    .colab-df-convert:hover {\n",
              "      background-color: #E2EBFA;\n",
              "      box-shadow: 0px 1px 2px rgba(60, 64, 67, 0.3), 0px 1px 3px 1px rgba(60, 64, 67, 0.15);\n",
              "      fill: #174EA6;\n",
              "    }\n",
              "\n",
              "    .colab-df-buttons div {\n",
              "      margin-bottom: 4px;\n",
              "    }\n",
              "\n",
              "    [theme=dark] .colab-df-convert {\n",
              "      background-color: #3B4455;\n",
              "      fill: #D2E3FC;\n",
              "    }\n",
              "\n",
              "    [theme=dark] .colab-df-convert:hover {\n",
              "      background-color: #434B5C;\n",
              "      box-shadow: 0px 1px 3px 1px rgba(0, 0, 0, 0.15);\n",
              "      filter: drop-shadow(0px 1px 2px rgba(0, 0, 0, 0.3));\n",
              "      fill: #FFFFFF;\n",
              "    }\n",
              "  </style>\n",
              "\n",
              "    <script>\n",
              "      const buttonEl =\n",
              "        document.querySelector('#df-c6b3dad5-8ced-4147-bc72-4507f7effc29 button.colab-df-convert');\n",
              "      buttonEl.style.display =\n",
              "        google.colab.kernel.accessAllowed ? 'block' : 'none';\n",
              "\n",
              "      async function convertToInteractive(key) {\n",
              "        const element = document.querySelector('#df-c6b3dad5-8ced-4147-bc72-4507f7effc29');\n",
              "        const dataTable =\n",
              "          await google.colab.kernel.invokeFunction('convertToInteractive',\n",
              "                                                    [key], {});\n",
              "        if (!dataTable) return;\n",
              "\n",
              "        const docLinkHtml = 'Like what you see? Visit the ' +\n",
              "          '<a target=\"_blank\" href=https://colab.research.google.com/notebooks/data_table.ipynb>data table notebook</a>'\n",
              "          + ' to learn more about interactive tables.';\n",
              "        element.innerHTML = '';\n",
              "        dataTable['output_type'] = 'display_data';\n",
              "        await google.colab.output.renderOutput(dataTable, element);\n",
              "        const docLink = document.createElement('div');\n",
              "        docLink.innerHTML = docLinkHtml;\n",
              "        element.appendChild(docLink);\n",
              "      }\n",
              "    </script>\n",
              "  </div>\n",
              "\n",
              "\n",
              "    <div id=\"df-ef3becbc-ea3b-4411-a857-0694d25c1baa\">\n",
              "      <button class=\"colab-df-quickchart\" onclick=\"quickchart('df-ef3becbc-ea3b-4411-a857-0694d25c1baa')\"\n",
              "                title=\"Suggest charts\"\n",
              "                style=\"display:none;\">\n",
              "\n",
              "<svg xmlns=\"http://www.w3.org/2000/svg\" height=\"24px\"viewBox=\"0 0 24 24\"\n",
              "     width=\"24px\">\n",
              "    <g>\n",
              "        <path d=\"M19 3H5c-1.1 0-2 .9-2 2v14c0 1.1.9 2 2 2h14c1.1 0 2-.9 2-2V5c0-1.1-.9-2-2-2zM9 17H7v-7h2v7zm4 0h-2V7h2v10zm4 0h-2v-4h2v4z\"/>\n",
              "    </g>\n",
              "</svg>\n",
              "      </button>\n",
              "\n",
              "<style>\n",
              "  .colab-df-quickchart {\n",
              "      --bg-color: #E8F0FE;\n",
              "      --fill-color: #1967D2;\n",
              "      --hover-bg-color: #E2EBFA;\n",
              "      --hover-fill-color: #174EA6;\n",
              "      --disabled-fill-color: #AAA;\n",
              "      --disabled-bg-color: #DDD;\n",
              "  }\n",
              "\n",
              "  [theme=dark] .colab-df-quickchart {\n",
              "      --bg-color: #3B4455;\n",
              "      --fill-color: #D2E3FC;\n",
              "      --hover-bg-color: #434B5C;\n",
              "      --hover-fill-color: #FFFFFF;\n",
              "      --disabled-bg-color: #3B4455;\n",
              "      --disabled-fill-color: #666;\n",
              "  }\n",
              "\n",
              "  .colab-df-quickchart {\n",
              "    background-color: var(--bg-color);\n",
              "    border: none;\n",
              "    border-radius: 50%;\n",
              "    cursor: pointer;\n",
              "    display: none;\n",
              "    fill: var(--fill-color);\n",
              "    height: 32px;\n",
              "    padding: 0;\n",
              "    width: 32px;\n",
              "  }\n",
              "\n",
              "  .colab-df-quickchart:hover {\n",
              "    background-color: var(--hover-bg-color);\n",
              "    box-shadow: 0 1px 2px rgba(60, 64, 67, 0.3), 0 1px 3px 1px rgba(60, 64, 67, 0.15);\n",
              "    fill: var(--button-hover-fill-color);\n",
              "  }\n",
              "\n",
              "  .colab-df-quickchart-complete:disabled,\n",
              "  .colab-df-quickchart-complete:disabled:hover {\n",
              "    background-color: var(--disabled-bg-color);\n",
              "    fill: var(--disabled-fill-color);\n",
              "    box-shadow: none;\n",
              "  }\n",
              "\n",
              "  .colab-df-spinner {\n",
              "    border: 2px solid var(--fill-color);\n",
              "    border-color: transparent;\n",
              "    border-bottom-color: var(--fill-color);\n",
              "    animation:\n",
              "      spin 1s steps(1) infinite;\n",
              "  }\n",
              "\n",
              "  @keyframes spin {\n",
              "    0% {\n",
              "      border-color: transparent;\n",
              "      border-bottom-color: var(--fill-color);\n",
              "      border-left-color: var(--fill-color);\n",
              "    }\n",
              "    20% {\n",
              "      border-color: transparent;\n",
              "      border-left-color: var(--fill-color);\n",
              "      border-top-color: var(--fill-color);\n",
              "    }\n",
              "    30% {\n",
              "      border-color: transparent;\n",
              "      border-left-color: var(--fill-color);\n",
              "      border-top-color: var(--fill-color);\n",
              "      border-right-color: var(--fill-color);\n",
              "    }\n",
              "    40% {\n",
              "      border-color: transparent;\n",
              "      border-right-color: var(--fill-color);\n",
              "      border-top-color: var(--fill-color);\n",
              "    }\n",
              "    60% {\n",
              "      border-color: transparent;\n",
              "      border-right-color: var(--fill-color);\n",
              "    }\n",
              "    80% {\n",
              "      border-color: transparent;\n",
              "      border-right-color: var(--fill-color);\n",
              "      border-bottom-color: var(--fill-color);\n",
              "    }\n",
              "    90% {\n",
              "      border-color: transparent;\n",
              "      border-bottom-color: var(--fill-color);\n",
              "    }\n",
              "  }\n",
              "</style>\n",
              "\n",
              "      <script>\n",
              "        async function quickchart(key) {\n",
              "          const quickchartButtonEl =\n",
              "            document.querySelector('#' + key + ' button');\n",
              "          quickchartButtonEl.disabled = true;  // To prevent multiple clicks.\n",
              "          quickchartButtonEl.classList.add('colab-df-spinner');\n",
              "          try {\n",
              "            const charts = await google.colab.kernel.invokeFunction(\n",
              "                'suggestCharts', [key], {});\n",
              "          } catch (error) {\n",
              "            console.error('Error during call to suggestCharts:', error);\n",
              "          }\n",
              "          quickchartButtonEl.classList.remove('colab-df-spinner');\n",
              "          quickchartButtonEl.classList.add('colab-df-quickchart-complete');\n",
              "        }\n",
              "        (() => {\n",
              "          let quickchartButtonEl =\n",
              "            document.querySelector('#df-ef3becbc-ea3b-4411-a857-0694d25c1baa button');\n",
              "          quickchartButtonEl.style.display =\n",
              "            google.colab.kernel.accessAllowed ? 'block' : 'none';\n",
              "        })();\n",
              "      </script>\n",
              "    </div>\n",
              "\n",
              "    </div>\n",
              "  </div>\n"
            ],
            "application/vnd.google.colaboratory.intrinsic+json": {
              "type": "dataframe",
              "summary": "{\n  \"name\": \"pd\",\n  \"rows\": 10,\n  \"fields\": [\n    {\n      \"column\": 0,\n      \"properties\": {\n        \"dtype\": \"string\",\n        \"num_unique_values\": 10,\n        \"samples\": [\n          \"What is quantum computing?\",\n          \"How do I bake a chocolate cake?\",\n          \"How do I fix a leaky faucet?\"\n        ],\n        \"semantic_type\": \"\",\n        \"description\": \"\"\n      }\n    }\n  ]\n}"
            }
          },
          "metadata": {},
          "execution_count": 37
        }
      ],
      "source": [
        "pd.DataFrame(documents)"
      ]
    },
    {
      "cell_type": "code",
      "execution_count": 38,
      "metadata": {
        "id": "AMMs6j9clOtH"
      },
      "outputs": [],
      "source": [
        "from types import SimpleNamespace\n",
        "\n",
        "import pandas as pd\n",
        "# Create the search function\n",
        "#This function should encode the user query and return the top N documents that most resemble it\n",
        "\n",
        "def semantic_search(query, documents, doc_embeddings, top_n=5):\n",
        "    q = model.encode([query])\n",
        "    sims= cosine_similarity(emb, q)\n",
        "\n",
        "    similar = pd.DataFrame(documents, columns=['Documents'])\n",
        "    similar['Similarity'] = sims\n",
        "\n",
        "    similar = similar.sort_values(by='Similarity', ascending=False).reset_index(drop=True)\n",
        "    return similar.Documents.head(top_n)"
      ]
    },
    {
      "cell_type": "code",
      "execution_count": 41,
      "metadata": {
        "colab": {
          "base_uri": "https://localhost:8080/",
          "height": 241
        },
        "id": "TDajGFxzlOtH",
        "outputId": "74bdc4a9-077a-41cb-cad8-d7b90f8d0152"
      },
      "outputs": [
        {
          "output_type": "execute_result",
          "data": {
            "text/plain": [
              "0                          What is quantum computing?\n",
              "1               What is the best way to learn Python?\n",
              "2                        How do I build a mobile app?\n",
              "3                     How do I set up a local server?\n",
              "4    What are the best travel destinations in Europe?\n",
              "Name: Documents, dtype: object"
            ],
            "text/html": [
              "<div>\n",
              "<style scoped>\n",
              "    .dataframe tbody tr th:only-of-type {\n",
              "        vertical-align: middle;\n",
              "    }\n",
              "\n",
              "    .dataframe tbody tr th {\n",
              "        vertical-align: top;\n",
              "    }\n",
              "\n",
              "    .dataframe thead th {\n",
              "        text-align: right;\n",
              "    }\n",
              "</style>\n",
              "<table border=\"1\" class=\"dataframe\">\n",
              "  <thead>\n",
              "    <tr style=\"text-align: right;\">\n",
              "      <th></th>\n",
              "      <th>Documents</th>\n",
              "    </tr>\n",
              "  </thead>\n",
              "  <tbody>\n",
              "    <tr>\n",
              "      <th>0</th>\n",
              "      <td>What is quantum computing?</td>\n",
              "    </tr>\n",
              "    <tr>\n",
              "      <th>1</th>\n",
              "      <td>What is the best way to learn Python?</td>\n",
              "    </tr>\n",
              "    <tr>\n",
              "      <th>2</th>\n",
              "      <td>How do I build a mobile app?</td>\n",
              "    </tr>\n",
              "    <tr>\n",
              "      <th>3</th>\n",
              "      <td>How do I set up a local server?</td>\n",
              "    </tr>\n",
              "    <tr>\n",
              "      <th>4</th>\n",
              "      <td>What are the best travel destinations in Europe?</td>\n",
              "    </tr>\n",
              "  </tbody>\n",
              "</table>\n",
              "</div><br><label><b>dtype:</b> object</label>"
            ]
          },
          "metadata": {},
          "execution_count": 41
        }
      ],
      "source": [
        "\n",
        "query = \"Explain programming languages.\"\n",
        "semantic_search(query, documents, emb)"
      ]
    },
    {
      "cell_type": "markdown",
      "metadata": {
        "id": "RYIIG5HDlOtH"
      },
      "source": [
        "### Questions:\n",
        "- **What are the top-ranked results for the given queries?**\n",
        "          *  What is quantum computing?\n",
        "          *  What is the best way to learn Python?\n",
        "          *  How do I build a mobile app?\n",
        "          * How do I set up a local server?\n",
        "          * What are the best travel destinations in Europe?\n",
        "\n",
        "- **How can you improve the ranking explanation for users?**\n",
        "\n",
        "* Readable scores: Convert cosine similarity to a 0–100 “relevance” meter and show a bar next to each result.\n",
        "\n",
        "* Best snippet: Surface the most similar sentence (or short span) from the doc as the “because” evidence.\n",
        "\n",
        "* Keyword overlap: Highlight exact terms (and simple stems) from the query that appear in the doc/snippet.\n",
        "\n",
        "* Signals used: Label the signals at a glance (e.g., “Semantic match • Keyword overlap • Popularity/recency”).\n",
        "\n",
        "\n",
        "\n",
        "- **Try this approach with a larger dataset**"
      ]
    },
    {
      "cell_type": "code",
      "source": [
        "import re\n",
        "import pandas as pd\n",
        "import numpy as np\n",
        "from sentence_transformers import SentenceTransformer\n",
        "\n",
        "#  Cleaning\n",
        "URL = re.compile(r\"https?://\\S+|www\\.\\S+\")\n",
        "MENT = re.compile(r\"@\\w+\")\n",
        "RT   = re.compile(r\"^RT\\s+\")\n",
        "HASH = re.compile(r\"#(\\w+)\")\n",
        "WS   = re.compile(r\"\\s+\")\n",
        "def clean(s: str) -> str:\n",
        "    s = \"\" if s is None else str(s)\n",
        "    s = RT.sub(\"\", s)\n",
        "    s = URL.sub(\"\", s)\n",
        "    s = MENT.sub(\"\", s)\n",
        "    s = HASH.sub(r\"\\1\", s)   # keep hashtag words, drop '#'\n",
        "    s = WS.sub(\" \", s).strip().lower()\n",
        "    return s\n",
        "\n",
        "# Load\n",
        "df = pd.read_csv(\"twitter_dataset.csv\", on_bad_lines=\"skip\")\n",
        "\n",
        "if \"Text\" not in df.columns:\n",
        "    raise ValueError(f\"Input CSV must contain a 'Text' column. Found: {list(df.columns)}\")\n",
        "\n",
        "print(f\"Tweets before cleaning: {len(df)}\")\n",
        "df[\"text_clean\"] = df[\"Text\"].fillna(\"\").map(clean)\n",
        "df = (\n",
        "    df[df[\"text_clean\"].str.len() >= 10]\n",
        "      .drop_duplicates(\"text_clean\")\n",
        "      .reset_index(drop=True)\n",
        ")\n",
        "docs = df[\"text_clean\"].tolist()\n",
        "print(f\"Tweets after cleaning: {len(docs)}\")\n",
        "if not docs:\n",
        "    raise RuntimeError(\"No tweets left after cleaning. Relax filters or check your CSV.\")\n",
        "\n",
        "# Embeddings\n",
        "model = SentenceTransformer(\"all-MiniLM-L6-v2\")\n",
        "emb = model.encode(docs)\n",
        "\n",
        "\n",
        "# Semantic Search\n",
        "query = \"Spain is the best.\"\n",
        "results = semantic_search(query, docs, emb, top_n=5)\n",
        "print(results.to_string(index=False))\n"
      ],
      "metadata": {
        "colab": {
          "base_uri": "https://localhost:8080/"
        },
        "id": "hrtxoMltfMUY",
        "outputId": "b588332f-f209-4169-cced-670d98e57db9"
      },
      "execution_count": 44,
      "outputs": [
        {
          "output_type": "stream",
          "name": "stdout",
          "text": [
            "Tweets before cleaning: 10000\n",
            "Tweets after cleaning: 10000\n",
            "great i carry good might. walk resource interna...\n",
            "art last test tree foot. yet sea major mention ...\n",
            "myself than area against city. move that media ...\n",
            "wife so every score. religious region group kin...\n",
            "here why add kitchen. that dog your actually wi...\n"
          ]
        }
      ]
    }
  ],
  "metadata": {
    "colab": {
      "provenance": []
    },
    "kernelspec": {
      "display_name": "Python [conda env:base] *",
      "language": "python",
      "name": "conda-base-py"
    },
    "language_info": {
      "codemirror_mode": {
        "name": "ipython",
        "version": 3
      },
      "file_extension": ".py",
      "mimetype": "text/x-python",
      "name": "python",
      "nbconvert_exporter": "python",
      "pygments_lexer": "ipython3",
      "version": "3.12.7"
    }
  },
  "nbformat": 4,
  "nbformat_minor": 0
}